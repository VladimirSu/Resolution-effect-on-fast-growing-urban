{
 "cells": [
  {
   "cell_type": "code",
   "execution_count": 1,
   "id": "1062712b-d630-4571-bd9f-c2bbd4f28271",
   "metadata": {},
   "outputs": [],
   "source": [
    "import cv2\n",
    "import numpy as np\n",
    "import random\n"
   ]
  },
  {
   "cell_type": "code",
   "execution_count": 2,
   "id": "3ef4f03d-70ef-448d-81a7-15316dfe04f3",
   "metadata": {},
   "outputs": [
    {
     "name": "stdout",
     "output_type": "stream",
     "text": [
      "==========segment done=============\n"
     ]
    }
   ],
   "source": [
    "\n",
    "pic_target = './target_200/' # 分割后的图片保存的文件夹 \n",
    "#要分割后的尺寸\n",
    "cut_width = 200\n",
    "cut_length = 200\n",
    "for year in range(2009, 2019):\n",
    "    pic_path = \"image/Urban_\"+ str(year) +\".jpg\" # 分割的图片的位置 \n",
    "    picture = cv2.imread(pic_path)\n",
    "    # 读取要分割的图片，以及其尺寸等数据\n",
    "    (width, length, depth) = picture.shape\n",
    "    # 预处理生成0矩阵\n",
    "    pic = np.zeros((cut_width, cut_length, depth))\n",
    "    # 计算可以划分的横纵的个数\n",
    "    num_width = int(width / cut_width)\n",
    "    num_length = int(length / cut_length)\n",
    "    # for循环迭代生成\n",
    "    for i in range(0, num_width):\n",
    "        for j in range(0, num_length):\n",
    "            pic = picture[i*cut_width : (i+1)*cut_width, j*cut_length : (j+1)*cut_length, :]      \n",
    "            #result_path = pic_target +str(name_ID) + '.jpg'\n",
    "            result_path = pic_target + str(year) +'_{}_{}.jpg'.format(i+1, j+1)\n",
    "            cv2.imwrite(result_path, pic)\n",
    "\n",
    "print(\"==========segment done=============\")\n"
   ]
  },
  {
   "cell_type": "code",
   "execution_count": null,
   "id": "648a7a85-632f-4cc8-a9c4-86d55801dd33",
   "metadata": {},
   "outputs": [],
   "source": []
  }
 ],
 "metadata": {
  "kernelspec": {
   "display_name": "Python 3 (ipykernel)",
   "language": "python",
   "name": "python3"
  },
  "language_info": {
   "codemirror_mode": {
    "name": "ipython",
    "version": 3
   },
   "file_extension": ".py",
   "mimetype": "text/x-python",
   "name": "python",
   "nbconvert_exporter": "python",
   "pygments_lexer": "ipython3",
   "version": "3.8.10"
  }
 },
 "nbformat": 4,
 "nbformat_minor": 5
}
